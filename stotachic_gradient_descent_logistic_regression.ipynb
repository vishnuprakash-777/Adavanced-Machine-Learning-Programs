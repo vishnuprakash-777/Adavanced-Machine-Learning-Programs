{
  "nbformat": 4,
  "nbformat_minor": 0,
  "metadata": {
    "colab": {
      "provenance": []
    },
    "kernelspec": {
      "name": "python3",
      "display_name": "Python 3"
    },
    "language_info": {
      "name": "python"
    }
  },
  "cells": [
    {
      "cell_type": "code",
      "source": [
        "import numpy as np"
      ],
      "metadata": {
        "id": "uuiXO4fZu5b_"
      },
      "execution_count": null,
      "outputs": []
    },
    {
      "cell_type": "code",
      "source": [
        "x = np.array([[0.5, 1.5], [1.5, 2.0], [3.0, 4.0], [5.0, 6.0]])  # example features\n",
        "y = np.array([0, 0, 1, 1])  # example labels"
      ],
      "metadata": {
        "id": "-zqNgaGDu7V1"
      },
      "execution_count": null,
      "outputs": []
    },
    {
      "cell_type": "code",
      "source": [
        "m=np.zeros_like(x[0])\n",
        "c=0\n",
        "lr=0.0001\n",
        "epochs=50"
      ],
      "metadata": {
        "id": "VgSbmgIF1esk"
      },
      "execution_count": null,
      "outputs": []
    },
    {
      "cell_type": "code",
      "source": [
        "def sigmoid(z):\n",
        "  return 1/(1+np.exp(-z))"
      ],
      "metadata": {
        "id": "LwiG59Sw123f"
      },
      "execution_count": null,
      "outputs": []
    },
    {
      "cell_type": "code",
      "source": [
        "for epoch in range(1,epochs+1):\n",
        "  for i in range(len(x)):\n",
        "    grw_wrt_m = x[i] * (y[i]-sigmoid(np.dot(m.T,x[i])+c))\n",
        "    grw_wrt_c = y[i]-sigmoid(np.dot(m.T,x[i])+c)\n",
        "\n",
        "    print(f'Epochs = {epoch}, Data Point = {i}, Gradient wrt m = {grw_wrt_m}')\n",
        "\n",
        "    m = m + lr * grw_wrt_m\n",
        "    c = c + lr * grw_wrt_c\n",
        "\n",
        "prediction=[]\n"
      ],
      "metadata": {
        "colab": {
          "base_uri": "https://localhost:8080/"
        },
        "id": "5lVqdzNp1nYO",
        "outputId": "1904e108-7c13-4dc9-b0b7-6fab53f73b24"
      },
      "execution_count": null,
      "outputs": [
        {
          "output_type": "stream",
          "name": "stdout",
          "text": [
            "Epochs = 1, Data Point = 0, Gradient wrt m = [-0.25 -0.75]\n",
            "Epochs = 1, Data Point = 1, Gradient wrt m = [-0.74991094 -0.99988125]\n",
            "Epochs = 1, Data Point = 2, Gradient wrt m = [1.50082494 2.00109992]\n",
            "Epochs = 1, Data Point = 3, Gradient wrt m = [2.49956097 2.99947317]\n",
            "Epochs = 2, Data Point = 0, Gradient wrt m = [-0.25007971 -0.75023912]\n",
            "Epochs = 2, Data Point = 1, Gradient wrt m = [-0.7503235  -1.00043133]\n",
            "Epochs = 2, Data Point = 2, Gradient wrt m = [1.49917499 1.99889998]\n",
            "Epochs = 2, Data Point = 3, Gradient wrt m = [2.49525134 2.9943016 ]\n",
            "Epochs = 3, Data Point = 0, Gradient wrt m = [-0.2501592  -0.75047759]\n",
            "Epochs = 3, Data Point = 1, Gradient wrt m = [-0.75073501 -1.00098002]\n",
            "Epochs = 3, Data Point = 2, Gradient wrt m = [1.49752907 1.99670543]\n",
            "Epochs = 3, Data Point = 3, Gradient wrt m = [2.4909521  2.98914252]\n",
            "Epochs = 4, Data Point = 0, Gradient wrt m = [-0.25023847 -0.75071541]\n",
            "Epochs = 4, Data Point = 1, Gradient wrt m = [-0.75114549 -1.00152731]\n",
            "Epochs = 4, Data Point = 2, Gradient wrt m = [1.49588719 1.99451626]\n",
            "Epochs = 4, Data Point = 3, Gradient wrt m = [2.48666327 2.98399592]\n",
            "Epochs = 5, Data Point = 0, Gradient wrt m = [-0.25031753 -0.75095259]\n",
            "Epochs = 5, Data Point = 1, Gradient wrt m = [-0.75155492 -1.00207322]\n",
            "Epochs = 5, Data Point = 2, Gradient wrt m = [1.49424934 1.99233246]\n",
            "Epochs = 5, Data Point = 3, Gradient wrt m = [2.48238484 2.97886181]\n",
            "Epochs = 6, Data Point = 0, Gradient wrt m = [-0.25039637 -0.75118912]\n",
            "Epochs = 6, Data Point = 1, Gradient wrt m = [-0.75196331 -1.00261775]\n",
            "Epochs = 6, Data Point = 2, Gradient wrt m = [1.49261551 1.99015401]\n",
            "Epochs = 6, Data Point = 3, Gradient wrt m = [2.47811681 2.97374017]\n",
            "Epochs = 7, Data Point = 0, Gradient wrt m = [-0.250475   -0.75142501]\n",
            "Epochs = 7, Data Point = 1, Gradient wrt m = [-0.75237068 -1.0031609 ]\n",
            "Epochs = 7, Data Point = 2, Gradient wrt m = [1.4909857  1.98798093]\n",
            "Epochs = 7, Data Point = 3, Gradient wrt m = [2.47385918 2.96863102]\n",
            "Epochs = 8, Data Point = 0, Gradient wrt m = [-0.25055342 -0.75166026]\n",
            "Epochs = 8, Data Point = 1, Gradient wrt m = [-0.752777   -1.00370267]\n",
            "Epochs = 8, Data Point = 2, Gradient wrt m = [1.48935989 1.98581319]\n",
            "Epochs = 8, Data Point = 3, Gradient wrt m = [2.46961195 2.96353434]\n",
            "Epochs = 9, Data Point = 0, Gradient wrt m = [-0.25063162 -0.75189486]\n",
            "Epochs = 9, Data Point = 1, Gradient wrt m = [-0.7531823  -1.00424307]\n",
            "Epochs = 9, Data Point = 2, Gradient wrt m = [1.48773809 1.98365078]\n",
            "Epochs = 9, Data Point = 3, Gradient wrt m = [2.46537512 2.95845014]\n",
            "Epochs = 10, Data Point = 0, Gradient wrt m = [-0.25070961 -0.75212883]\n",
            "Epochs = 10, Data Point = 1, Gradient wrt m = [-0.75358657 -1.00478209]\n",
            "Epochs = 10, Data Point = 2, Gradient wrt m = [1.48612028 1.98149371]\n",
            "Epochs = 10, Data Point = 3, Gradient wrt m = [2.46114868 2.95337841]\n",
            "Epochs = 11, Data Point = 0, Gradient wrt m = [-0.25078739 -0.75236216]\n",
            "Epochs = 11, Data Point = 1, Gradient wrt m = [-0.75398981 -1.00531975]\n",
            "Epochs = 11, Data Point = 2, Gradient wrt m = [1.48450646 1.97934195]\n",
            "Epochs = 11, Data Point = 3, Gradient wrt m = [2.45693263 2.94831915]\n",
            "Epochs = 12, Data Point = 0, Gradient wrt m = [-0.25086495 -0.75259486]\n",
            "Epochs = 12, Data Point = 1, Gradient wrt m = [-0.75439203 -1.00585605]\n",
            "Epochs = 12, Data Point = 2, Gradient wrt m = [1.48289663 1.97719551]\n",
            "Epochs = 12, Data Point = 3, Gradient wrt m = [2.45272697 2.94327236]\n",
            "Epochs = 13, Data Point = 0, Gradient wrt m = [-0.25094231 -0.75282692]\n",
            "Epochs = 13, Data Point = 1, Gradient wrt m = [-0.75479323 -1.00639098]\n",
            "Epochs = 13, Data Point = 2, Gradient wrt m = [1.48129078 1.97505437]\n",
            "Epochs = 13, Data Point = 3, Gradient wrt m = [2.44853169 2.93823803]\n",
            "Epochs = 14, Data Point = 0, Gradient wrt m = [-0.25101945 -0.75305835]\n",
            "Epochs = 14, Data Point = 1, Gradient wrt m = [-0.75519341 -1.00692455]\n",
            "Epochs = 14, Data Point = 2, Gradient wrt m = [1.4796889  1.97291853]\n",
            "Epochs = 14, Data Point = 3, Gradient wrt m = [2.4443468  2.93321616]\n",
            "Epochs = 15, Data Point = 0, Gradient wrt m = [-0.25109638 -0.75328915]\n",
            "Epochs = 15, Data Point = 1, Gradient wrt m = [-0.75559258 -1.00745677]\n",
            "Epochs = 15, Data Point = 2, Gradient wrt m = [1.47809098 1.97078798]\n",
            "Epochs = 15, Data Point = 3, Gradient wrt m = [2.44017229 2.92820675]\n",
            "Epochs = 16, Data Point = 0, Gradient wrt m = [-0.25117311 -0.75351932]\n",
            "Epochs = 16, Data Point = 1, Gradient wrt m = [-0.75599072 -1.00798763]\n",
            "Epochs = 16, Data Point = 2, Gradient wrt m = [1.47649702 1.9686627 ]\n",
            "Epochs = 16, Data Point = 3, Gradient wrt m = [2.43600815 2.92320978]\n",
            "Epochs = 17, Data Point = 0, Gradient wrt m = [-0.25124962 -0.75374886]\n",
            "Epochs = 17, Data Point = 1, Gradient wrt m = [-0.75638786 -1.00851715]\n",
            "Epochs = 17, Data Point = 2, Gradient wrt m = [1.47490702 1.96654269]\n",
            "Epochs = 17, Data Point = 3, Gradient wrt m = [2.43185438 2.91822526]\n",
            "Epochs = 18, Data Point = 0, Gradient wrt m = [-0.25132592 -0.75397777]\n",
            "Epochs = 18, Data Point = 1, Gradient wrt m = [-0.75678399 -1.00904532]\n",
            "Epochs = 18, Data Point = 2, Gradient wrt m = [1.47332096 1.96442795]\n",
            "Epochs = 18, Data Point = 3, Gradient wrt m = [2.42771098 2.91325317]\n",
            "Epochs = 19, Data Point = 0, Gradient wrt m = [-0.25140202 -0.75420606]\n",
            "Epochs = 19, Data Point = 1, Gradient wrt m = [-0.75717911 -1.00957215]\n",
            "Epochs = 19, Data Point = 2, Gradient wrt m = [1.47173884 1.96231845]\n",
            "Epochs = 19, Data Point = 3, Gradient wrt m = [2.42357793 2.90829352]\n",
            "Epochs = 20, Data Point = 0, Gradient wrt m = [-0.25147791 -0.75443373]\n",
            "Epochs = 20, Data Point = 1, Gradient wrt m = [-0.75757322 -1.01009763]\n",
            "Epochs = 20, Data Point = 2, Gradient wrt m = [1.47016065 1.9602142 ]\n",
            "Epochs = 20, Data Point = 3, Gradient wrt m = [2.41945524 2.90334629]\n",
            "Epochs = 21, Data Point = 0, Gradient wrt m = [-0.25155359 -0.75466078]\n",
            "Epochs = 21, Data Point = 1, Gradient wrt m = [-0.75796634 -1.01062178]\n",
            "Epochs = 21, Data Point = 2, Gradient wrt m = [1.46858639 1.95811518]\n",
            "Epochs = 21, Data Point = 3, Gradient wrt m = [2.4153429  2.89841148]\n",
            "Epochs = 22, Data Point = 0, Gradient wrt m = [-0.25162907 -0.7548872 ]\n",
            "Epochs = 22, Data Point = 1, Gradient wrt m = [-0.75835845 -1.0111446 ]\n",
            "Epochs = 22, Data Point = 2, Gradient wrt m = [1.46701604 1.95602139]\n",
            "Epochs = 22, Data Point = 3, Gradient wrt m = [2.41124091 2.89348909]\n",
            "Epochs = 23, Data Point = 0, Gradient wrt m = [-0.25170434 -0.75511301]\n",
            "Epochs = 23, Data Point = 1, Gradient wrt m = [-0.75874956 -1.01166608]\n",
            "Epochs = 23, Data Point = 2, Gradient wrt m = [1.46544961 1.95393282]\n",
            "Epochs = 23, Data Point = 3, Gradient wrt m = [2.40714925 2.88857909]\n",
            "Epochs = 24, Data Point = 0, Gradient wrt m = [-0.2517794 -0.7553382]\n",
            "Epochs = 24, Data Point = 1, Gradient wrt m = [-0.75913968 -1.01218624]\n",
            "Epochs = 24, Data Point = 2, Gradient wrt m = [1.46388709 1.95184945]\n",
            "Epochs = 24, Data Point = 3, Gradient wrt m = [2.40306792 2.8836815 ]\n",
            "Epochs = 25, Data Point = 0, Gradient wrt m = [-0.25185426 -0.75556277]\n",
            "Epochs = 25, Data Point = 1, Gradient wrt m = [-0.75952881 -1.01270508]\n",
            "Epochs = 25, Data Point = 2, Gradient wrt m = [1.46232846 1.94977128]\n",
            "Epochs = 25, Data Point = 3, Gradient wrt m = [2.39899691 2.87879629]\n",
            "Epochs = 26, Data Point = 0, Gradient wrt m = [-0.25192891 -0.75578673]\n",
            "Epochs = 26, Data Point = 1, Gradient wrt m = [-0.75991694 -1.01322259]\n",
            "Epochs = 26, Data Point = 2, Gradient wrt m = [1.46077372 1.9476983 ]\n",
            "Epochs = 26, Data Point = 3, Gradient wrt m = [2.39493622 2.87392347]\n",
            "Epochs = 27, Data Point = 0, Gradient wrt m = [-0.25200336 -0.75601008]\n",
            "Epochs = 27, Data Point = 1, Gradient wrt m = [-0.76030409 -1.01373878]\n",
            "Epochs = 27, Data Point = 2, Gradient wrt m = [1.45922287 1.94563049]\n",
            "Epochs = 27, Data Point = 3, Gradient wrt m = [2.39088584 2.86906301]\n",
            "Epochs = 28, Data Point = 0, Gradient wrt m = [-0.2520776  -0.75623281]\n",
            "Epochs = 28, Data Point = 1, Gradient wrt m = [-0.76069025 -1.01425366]\n",
            "Epochs = 28, Data Point = 2, Gradient wrt m = [1.4576759  1.94356786]\n",
            "Epochs = 28, Data Point = 3, Gradient wrt m = [2.38684576 2.86421492]\n",
            "Epochs = 29, Data Point = 0, Gradient wrt m = [-0.25215165 -0.75645494]\n",
            "Epochs = 29, Data Point = 1, Gradient wrt m = [-0.76107542 -1.01476723]\n",
            "Epochs = 29, Data Point = 2, Gradient wrt m = [1.4561328  1.94151039]\n",
            "Epochs = 29, Data Point = 3, Gradient wrt m = [2.38281598 2.85937918]\n",
            "Epochs = 30, Data Point = 0, Gradient wrt m = [-0.25222549 -0.75667646]\n",
            "Epochs = 30, Data Point = 1, Gradient wrt m = [-0.76145961 -1.01527949]\n",
            "Epochs = 30, Data Point = 2, Gradient wrt m = [1.45459356 1.93945807]\n",
            "Epochs = 30, Data Point = 3, Gradient wrt m = [2.37879648 2.85455578]\n",
            "Epochs = 31, Data Point = 0, Gradient wrt m = [-0.25229912 -0.75689737]\n",
            "Epochs = 31, Data Point = 1, Gradient wrt m = [-0.76184283 -1.01579044]\n",
            "Epochs = 31, Data Point = 2, Gradient wrt m = [1.45305817 1.9374109 ]\n",
            "Epochs = 31, Data Point = 3, Gradient wrt m = [2.37478726 2.84974472]\n",
            "Epochs = 32, Data Point = 0, Gradient wrt m = [-0.25237256 -0.75711768]\n",
            "Epochs = 32, Data Point = 1, Gradient wrt m = [-0.76222507 -1.01630009]\n",
            "Epochs = 32, Data Point = 2, Gradient wrt m = [1.45152664 1.93536886]\n",
            "Epochs = 32, Data Point = 3, Gradient wrt m = [2.37078831 2.84494598]\n",
            "Epochs = 33, Data Point = 0, Gradient wrt m = [-0.25244579 -0.75733738]\n",
            "Epochs = 33, Data Point = 1, Gradient wrt m = [-0.76260633 -1.01680844]\n",
            "Epochs = 33, Data Point = 2, Gradient wrt m = [1.44999895 1.93333194]\n",
            "Epochs = 33, Data Point = 3, Gradient wrt m = [2.36679962 2.84015955]\n",
            "Epochs = 34, Data Point = 0, Gradient wrt m = [-0.25251883 -0.75755648]\n",
            "Epochs = 34, Data Point = 1, Gradient wrt m = [-0.76298662 -1.01731549]\n",
            "Epochs = 34, Data Point = 2, Gradient wrt m = [1.4484751  1.93130013]\n",
            "Epochs = 34, Data Point = 3, Gradient wrt m = [2.36282118 2.83538542]\n",
            "Epochs = 35, Data Point = 0, Gradient wrt m = [-0.25259166 -0.75777498]\n",
            "Epochs = 35, Data Point = 1, Gradient wrt m = [-0.76336594 -1.01782125]\n",
            "Epochs = 35, Data Point = 2, Gradient wrt m = [1.44695507 1.92927343]\n",
            "Epochs = 35, Data Point = 3, Gradient wrt m = [2.35885299 2.83062358]\n",
            "Epochs = 36, Data Point = 0, Gradient wrt m = [-0.2526643  -0.75799289]\n",
            "Epochs = 36, Data Point = 1, Gradient wrt m = [-0.76374429 -1.01832572]\n",
            "Epochs = 36, Data Point = 2, Gradient wrt m = [1.44543887 1.92725182]\n",
            "Epochs = 36, Data Point = 3, Gradient wrt m = [2.35489502 2.82587403]\n",
            "Epochs = 37, Data Point = 0, Gradient wrt m = [-0.25273673 -0.75821019]\n",
            "Epochs = 37, Data Point = 1, Gradient wrt m = [-0.76412168 -1.0188289 ]\n",
            "Epochs = 37, Data Point = 2, Gradient wrt m = [1.44392648 1.9252353 ]\n",
            "Epochs = 37, Data Point = 3, Gradient wrt m = [2.35094728 2.82113674]\n",
            "Epochs = 38, Data Point = 0, Gradient wrt m = [-0.25280897 -0.7584269 ]\n",
            "Epochs = 38, Data Point = 1, Gradient wrt m = [-0.7644981 -1.0193308]\n",
            "Epochs = 38, Data Point = 2, Gradient wrt m = [1.44241789 1.92322386]\n",
            "Epochs = 38, Data Point = 3, Gradient wrt m = [2.34700975 2.8164117 ]\n",
            "Epochs = 39, Data Point = 0, Gradient wrt m = [-0.25288101 -0.75864302]\n",
            "Epochs = 39, Data Point = 1, Gradient wrt m = [-0.76487356 -1.01983142]\n",
            "Epochs = 39, Data Point = 2, Gradient wrt m = [1.44091311 1.92121748]\n",
            "Epochs = 39, Data Point = 3, Gradient wrt m = [2.34308242 2.81169891]\n",
            "Epochs = 40, Data Point = 0, Gradient wrt m = [-0.25295285 -0.75885854]\n",
            "Epochs = 40, Data Point = 1, Gradient wrt m = [-0.76524807 -1.02033075]\n",
            "Epochs = 40, Data Point = 2, Gradient wrt m = [1.43941211 1.91921615]\n",
            "Epochs = 40, Data Point = 3, Gradient wrt m = [2.33916528 2.80699834]\n",
            "Epochs = 41, Data Point = 0, Gradient wrt m = [-0.25302449 -0.75907347]\n",
            "Epochs = 41, Data Point = 1, Gradient wrt m = [-0.76562161 -1.02082882]\n",
            "Epochs = 41, Data Point = 2, Gradient wrt m = [1.4379149  1.91721987]\n",
            "Epochs = 41, Data Point = 3, Gradient wrt m = [2.33525833 2.80231   ]\n",
            "Epochs = 42, Data Point = 0, Gradient wrt m = [-0.25309594 -0.75928781]\n",
            "Epochs = 42, Data Point = 1, Gradient wrt m = [-0.76599421 -1.02132561]\n",
            "Epochs = 42, Data Point = 2, Gradient wrt m = [1.43642147 1.91522863]\n",
            "Epochs = 42, Data Point = 3, Gradient wrt m = [2.33136154 2.79763385]\n",
            "Epochs = 43, Data Point = 0, Gradient wrt m = [-0.25316719 -0.75950156]\n",
            "Epochs = 43, Data Point = 1, Gradient wrt m = [-0.76636585 -1.02182113]\n",
            "Epochs = 43, Data Point = 2, Gradient wrt m = [1.43493181 1.91324242]\n",
            "Epochs = 43, Data Point = 3, Gradient wrt m = [2.32747492 2.7929699 ]\n",
            "Epochs = 44, Data Point = 0, Gradient wrt m = [-0.25323824 -0.75971472]\n",
            "Epochs = 44, Data Point = 1, Gradient wrt m = [-0.76673654 -1.02231539]\n",
            "Epochs = 44, Data Point = 2, Gradient wrt m = [1.43344591 1.91126122]\n",
            "Epochs = 44, Data Point = 3, Gradient wrt m = [2.32359844 2.78831812]\n",
            "Epochs = 45, Data Point = 0, Gradient wrt m = [-0.2533091 -0.7599273]\n",
            "Epochs = 45, Data Point = 1, Gradient wrt m = [-0.76710629 -1.02280839]\n",
            "Epochs = 45, Data Point = 2, Gradient wrt m = [1.43196377 1.90928503]\n",
            "Epochs = 45, Data Point = 3, Gradient wrt m = [2.31973209 2.78367851]\n",
            "Epochs = 46, Data Point = 0, Gradient wrt m = [-0.25337977 -0.7601393 ]\n",
            "Epochs = 46, Data Point = 1, Gradient wrt m = [-0.76747509 -1.02330012]\n",
            "Epochs = 46, Data Point = 2, Gradient wrt m = [1.43048537 1.90731383]\n",
            "Epochs = 46, Data Point = 3, Gradient wrt m = [2.31587587 2.77905105]\n",
            "Epochs = 47, Data Point = 0, Gradient wrt m = [-0.25345024 -0.76035071]\n",
            "Epochs = 47, Data Point = 1, Gradient wrt m = [-0.76784295 -1.0237906 ]\n",
            "Epochs = 47, Data Point = 2, Gradient wrt m = [1.42901072 1.90534762]\n",
            "Epochs = 47, Data Point = 3, Gradient wrt m = [2.31202976 2.77443572]\n",
            "Epochs = 48, Data Point = 0, Gradient wrt m = [-0.25352051 -0.76056154]\n",
            "Epochs = 48, Data Point = 1, Gradient wrt m = [-0.76820987 -1.02427983]\n",
            "Epochs = 48, Data Point = 2, Gradient wrt m = [1.42753979 1.90338639]\n",
            "Epochs = 48, Data Point = 3, Gradient wrt m = [2.30819375 2.7698325 ]\n",
            "Epochs = 49, Data Point = 0, Gradient wrt m = [-0.2535906 -0.7607718]\n",
            "Epochs = 49, Data Point = 1, Gradient wrt m = [-0.76857585 -1.02476781]\n",
            "Epochs = 49, Data Point = 2, Gradient wrt m = [1.4260726  1.90143013]\n",
            "Epochs = 49, Data Point = 3, Gradient wrt m = [2.30436783 2.7652414 ]\n",
            "Epochs = 50, Data Point = 0, Gradient wrt m = [-0.25366049 -0.76098147]\n",
            "Epochs = 50, Data Point = 1, Gradient wrt m = [-0.7689409  -1.02525454]\n",
            "Epochs = 50, Data Point = 2, Gradient wrt m = [1.42460911 1.89947882]\n",
            "Epochs = 50, Data Point = 3, Gradient wrt m = [2.30055198 2.76066238]\n"
          ]
        }
      ]
    },
    {
      "cell_type": "code",
      "source": [
        "for i in range(len(x)):\n",
        "  z = np.dot(m,x[i])+c\n",
        "  y_pred = sigmoid(z)\n",
        "  if y_pred >= 0.5:\n",
        "    prediction.append(1)\n",
        "  else:\n",
        "    prediction.append(0)\n",
        "prediction"
      ],
      "metadata": {
        "colab": {
          "base_uri": "https://localhost:8080/"
        },
        "id": "kJk62zAO3ta6",
        "outputId": "45220ed1-9da0-40e5-d978-a1c36b45433f"
      },
      "execution_count": null,
      "outputs": [
        {
          "output_type": "execute_result",
          "data": {
            "text/plain": [
              "[1, 1, 1, 1]"
            ]
          },
          "metadata": {},
          "execution_count": 9
        }
      ]
    },
    {
      "cell_type": "code",
      "source": [
        "m"
      ],
      "metadata": {
        "colab": {
          "base_uri": "https://localhost:8080/"
        },
        "id": "PsyWVhM_4M_8",
        "outputId": "32ba0131-2260-472d-b421-42e5f8337e38"
      },
      "execution_count": null,
      "outputs": [
        {
          "output_type": "execute_result",
          "data": {
            "text/plain": [
              "array([0.01424252, 0.01529241])"
            ]
          },
          "metadata": {},
          "execution_count": 10
        }
      ]
    },
    {
      "cell_type": "code",
      "source": [
        "c"
      ],
      "metadata": {
        "colab": {
          "base_uri": "https://localhost:8080/"
        },
        "id": "YCkEObID4OPa",
        "outputId": "16deb2c7-da87-40b5-8d75-d0895d8f8cf0"
      },
      "execution_count": null,
      "outputs": [
        {
          "output_type": "execute_result",
          "data": {
            "text/plain": [
              "-0.00021613912141545203"
            ]
          },
          "metadata": {},
          "execution_count": 11
        }
      ]
    }
  ]
}