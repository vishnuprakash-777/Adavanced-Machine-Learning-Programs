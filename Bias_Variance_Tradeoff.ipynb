{
  "nbformat": 4,
  "nbformat_minor": 0,
  "metadata": {
    "colab": {
      "provenance": []
    },
    "kernelspec": {
      "name": "python3",
      "display_name": "Python 3"
    },
    "language_info": {
      "name": "python"
    }
  },
  "cells": [
    {
      "cell_type": "code",
      "execution_count": null,
      "metadata": {
        "id": "3dYNW24SyCGV"
      },
      "outputs": [],
      "source": [
        "import tensorflow as tf\n",
        "from sklearn.metrics import accuracy_score,mean_squared_error\n",
        "from sklearn.utils import resample\n",
        "import numpy as np"
      ]
    },
    {
      "cell_type": "code",
      "source": [
        "(X_train, y_train), (X_test, y_test) = tf.keras.datasets.fashion_mnist.load_data()"
      ],
      "metadata": {
        "id": "eIf-NT4dDasr"
      },
      "execution_count": null,
      "outputs": []
    },
    {
      "cell_type": "code",
      "source": [
        "X_train, X_test = X_train / 255.0, X_test / 255.0"
      ],
      "metadata": {
        "id": "VM1RyM6jD_Cg"
      },
      "execution_count": null,
      "outputs": []
    },
    {
      "cell_type": "code",
      "source": [
        "X_train = X_train.reshape(X_train.shape[0], -1)\n",
        "X_test = X_test.reshape(X_test.shape[0], -1)"
      ],
      "metadata": {
        "id": "-Oz-Mkz-QogP"
      },
      "execution_count": null,
      "outputs": []
    },
    {
      "cell_type": "code",
      "source": [
        "binary_indices_train = np.where((y_train == 0) | (y_train == 1))[0]\n",
        "binary_indices_test = np.where((y_test == 0) | (y_test == 1))[0]"
      ],
      "metadata": {
        "id": "_6tsv-SpQ25i"
      },
      "execution_count": null,
      "outputs": []
    },
    {
      "cell_type": "code",
      "source": [
        "X_train_binary, y_train_binary = X_train[binary_indices_train], y_train[binary_indices_train]\n",
        "X_test_binary, y_test_binary = X_test[binary_indices_test], y_test[binary_indices_test]"
      ],
      "metadata": {
        "id": "xHUUt_d6TLY5"
      },
      "execution_count": null,
      "outputs": []
    },
    {
      "cell_type": "code",
      "source": [
        "y_train_binary = np.where(y_train_binary == 0, 0, 1)\n",
        "y_test_binary = np.where(y_test_binary == 0, 0, 1)"
      ],
      "metadata": {
        "id": "Jon8kXIzTIih"
      },
      "execution_count": null,
      "outputs": []
    },
    {
      "cell_type": "code",
      "source": [
        "def sigmoid(z):\n",
        "  return 1/(1+np.exp(-z))"
      ],
      "metadata": {
        "id": "5W61fHNUU9Mr"
      },
      "execution_count": null,
      "outputs": []
    },
    {
      "cell_type": "code",
      "source": [
        "def train_and_predict(X_train, y_train, X_test):\n",
        "    m = np.zeros(X_train.shape[1])\n",
        "    c=0\n",
        "    LR = 0.0001\n",
        "    epochs = 50\n",
        "    for epoch in range(1, epochs + 1):\n",
        "      for i in range(len(X_train)):\n",
        "        gr_wrt_m = X_train[i] * (y_train[i] - sigmoid(np.dot(m.T, X_train[i]) + c))\n",
        "        gr_wrt_c = y_train[i] - sigmoid(np.dot(m.T, X_train[i]) + c)\n",
        "        m = m + LR * gr_wrt_m\n",
        "        c = c + LR * gr_wrt_c\n",
        "    predictions = []\n",
        "    for i in range(len(X_test)):\n",
        "      z = np.dot(m, X_test[i]) + c\n",
        "      y_pred = sigmoid(z)\n",
        "      predictions.append(y_pred)\n",
        "    return np.array(predictions)"
      ],
      "metadata": {
        "id": "1Fhe_EgAUZPf"
      },
      "execution_count": null,
      "outputs": []
    },
    {
      "cell_type": "code",
      "source": [
        "n_models=10\n",
        "all_predictions = []\n",
        "for _ in range(n_models):\n",
        "  X_resampled, y_resampled = resample(X_train_binary, y_train_binary)\n",
        "  predictions = train_and_predict(X_resampled, y_resampled, X_test_binary)\n",
        "  all_predictions.append(predictions)\n",
        "all_predictions = np.array(all_predictions)\n",
        "# Calculate the average prediction\n",
        "average_prediction = np.mean(all_predictions, axis=0)\n",
        "# Calculate bias\n",
        "bias = mean_squared_error(y_test_binary, average_prediction)\n",
        "# Calculate variance\n",
        "variance = np.mean(np.var(all_predictions, axis=0))\n",
        "# Output bias and variance\n",
        "print(\"Bias:\", bias)\n",
        "print(\"Variance:\", variance)\n"
      ],
      "metadata": {
        "colab": {
          "base_uri": "https://localhost:8080/"
        },
        "id": "K7d-RVaXWZF2",
        "outputId": "00597fbf-0e1b-4e05-e553-4aa02064d17f"
      },
      "execution_count": null,
      "outputs": [
        {
          "output_type": "stream",
          "name": "stdout",
          "text": [
            "Bias: 0.01485762417054321\n",
            "Variance: 7.61160201540372e-05\n"
          ]
        }
      ]
    }
  ]
}